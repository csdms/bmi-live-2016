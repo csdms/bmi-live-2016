{
 "cells": [
  {
   "cell_type": "markdown",
   "metadata": {},
   "source": [
    "<img src=\"img/csdms_logo.jpg\">"
   ]
  },
  {
   "cell_type": "markdown",
   "metadata": {},
   "source": [
    "# Visualization with `ipywidgets`"
   ]
  },
  {
   "cell_type": "raw",
   "metadata": {},
   "source": [
    "Let's visualize the evolution of the 2D temperature field as heat diffuses across the plate. We can do this interactively with the `ipywidgets` package.\n",
    "\n",
    "**Note:** Depending on the current state of your Python installation, you may have to install the `ipywidgets` package, have `notebook>=4.2.0`, and enable widgets.\n",
    "\n",
    "```bash\n",
    "$ pip install ipywidgets\n",
    "$ jupyter nbextension enable --py --sys-prefix widgetsnbextension\n",
    "```\n",
    "\n",
    "Start with the necessary imports."
   ]
  },
  {
   "cell_type": "code",
   "execution_count": null,
   "metadata": {
    "collapsed": false
   },
   "outputs": [],
   "source": [
    "%matplotlib inline\n",
    "import matplotlib.pyplot as plt\n",
    "from ipywidgets import interact\n",
    "from heat_solver import BmiHeat"
   ]
  },
  {
   "cell_type": "markdown",
   "metadata": {},
   "source": [
    "Define a function that runs the `HeatSolver` model a fixed number of time steps. Store the temperture field from each time step in a list. Return the list."
   ]
  },
  {
   "cell_type": "code",
   "execution_count": null,
   "metadata": {
    "collapsed": true
   },
   "outputs": [],
   "source": [
    "def run_model(n_steps=10):\n",
    "    heat = BmiHeat()\n",
    "    heat.initialize('../heat.yaml')\n",
    "    \n",
    "    initial_temp = heat.get_value('plate_surface__temperature')\n",
    "    initial_temp[2, 2] = 100.\n",
    "    heat.set_value('plate_surface__temperature', initial_temp)\n",
    "    \n",
    "    temp = [initial_temp]\n",
    "    for _ in range(n_steps):\n",
    "        heat.update()\n",
    "        new_temp = heat.get_value('plate_surface__temperature')\n",
    "        temp.append(new_temp)\n",
    "    \n",
    "    heat.finalize()\n",
    "    return temp"
   ]
  },
  {
   "cell_type": "markdown",
   "metadata": {},
   "source": [
    "Run the model for awhile."
   ]
  },
  {
   "cell_type": "code",
   "execution_count": null,
   "metadata": {
    "collapsed": false
   },
   "outputs": [],
   "source": [
    "temperature = run_model(50)"
   ]
  },
  {
   "cell_type": "markdown",
   "metadata": {},
   "source": [
    "Define a function to visualize the temperature field at a time step (defined by an index into the list of temperature fields)."
   ]
  },
  {
   "cell_type": "code",
   "execution_count": null,
   "metadata": {
    "collapsed": true
   },
   "outputs": [],
   "source": [
    "def plot_temperature(time_index=0):\n",
    "    xmin, xmax = 0., temperature[0].shape[1]\n",
    "    ymin, ymax = 0., temperature[0].shape[0]\n",
    "    plt.imshow(temperature[time_index], extent=[xmin, xmax, ymin, ymax], origin='upper', cmap='Reds')\n",
    "    plt.title('Plate Temperature')\n",
    "    plt.colorbar().ax.set_ylabel('Temperature (K)')"
   ]
  },
  {
   "cell_type": "markdown",
   "metadata": {},
   "source": [
    "Make an interactive plot of temperature over time."
   ]
  },
  {
   "cell_type": "code",
   "execution_count": null,
   "metadata": {
    "collapsed": false
   },
   "outputs": [],
   "source": [
    "interact(plot_temperature, time_index=(0, 50, 1))"
   ]
  },
  {
   "cell_type": "markdown",
   "metadata": {},
   "source": [
    "## Update the model interactively"
   ]
  },
  {
   "cell_type": "markdown",
   "metadata": {},
   "source": [
    "Define a function to plot a 2D array of temperatures."
   ]
  },
  {
   "cell_type": "code",
   "execution_count": null,
   "metadata": {
    "collapsed": true
   },
   "outputs": [],
   "source": [
    "def plot_temperature(temperature):\n",
    "    xmin, xmax = 0., temperature.shape[1]\n",
    "    ymin, ymax = 0., temperature.shape[0]\n",
    "    plt.imshow(temperature, extent=[xmin, xmax, ymin, ymax], origin='upper', cmap='Reds')\n",
    "    plt.title('Plate Temperature')\n",
    "    plt.colorbar().ax.set_ylabel('Temperature (K)')"
   ]
  },
  {
   "cell_type": "markdown",
   "metadata": {},
   "source": [
    "We're going to use this a little later to interactively run and plot our model.\n",
    "\n",
    "Create an object that runs the `BmiHeat` model until a given time and then plots the temperature field at that time. Notice that this would work with any BMI model - you would just have to change the name of the variable to plot. Since our model cannot run backward in time, we cache the temperature at each time step."
   ]
  },
  {
   "cell_type": "code",
   "execution_count": null,
   "metadata": {
    "collapsed": true
   },
   "outputs": [],
   "source": [
    "class HeatRunner(object):\n",
    "    def __init__(self, heat):\n",
    "        self._heat = heat\n",
    "        self._cache = []\n",
    "\n",
    "    def run_and_plot(self, time_index):\n",
    "        for _ in range(len(self._cache), time_index):\n",
    "            self._heat.update()\n",
    "            self._cache.append(heat.get_value('plate_surface__temperature'))\n",
    "        plot_temperature(self._cache[time_index - 1])"
   ]
  },
  {
   "cell_type": "markdown",
   "metadata": {},
   "source": [
    "Instantiate the heat model and initialize it."
   ]
  },
  {
   "cell_type": "code",
   "execution_count": null,
   "metadata": {
    "collapsed": false
   },
   "outputs": [],
   "source": [
    "heat = BmiHeat()\n",
    "heat.initialize('../heat.yaml')"
   ]
  },
  {
   "cell_type": "markdown",
   "metadata": {},
   "source": [
    "Set the initial temperature."
   ]
  },
  {
   "cell_type": "code",
   "execution_count": null,
   "metadata": {
    "collapsed": false
   },
   "outputs": [],
   "source": [
    "init_temperature = heat.get_value('plate_surface__temperature')\n",
    "init_temperature[2, 2] = 100.\n",
    "heat.set_value('plate_surface__temperature', init_temperature)"
   ]
  },
  {
   "cell_type": "markdown",
   "metadata": {},
   "source": [
    "Run the model interactively over time. Note that as you move the slider, the model *runs* to the updated time."
   ]
  },
  {
   "cell_type": "code",
   "execution_count": null,
   "metadata": {
    "collapsed": false
   },
   "outputs": [],
   "source": [
    "runner = HeatRunner(heat)\n",
    "interact(runner.run_and_plot, time_index=(0, 100, 1))"
   ]
  },
  {
   "cell_type": "markdown",
   "metadata": {},
   "source": [
    "Get a reference to the current temperature of the plate..."
   ]
  },
  {
   "cell_type": "code",
   "execution_count": null,
   "metadata": {
    "collapsed": true
   },
   "outputs": [],
   "source": [
    "current_temperature = heat.get_value_ref('plate_surface__temperature')"
   ]
  },
  {
   "cell_type": "markdown",
   "metadata": {},
   "source": [
    "... and update the current temperature as you like and the result will be reflected above as you continue to advance the slider."
   ]
  },
  {
   "cell_type": "code",
   "execution_count": null,
   "metadata": {
    "collapsed": true
   },
   "outputs": [],
   "source": [
    "current_temperature[2, 8] = 5 * current_temperature.max()"
   ]
  }
 ],
 "metadata": {
  "kernelspec": {
   "display_name": "Python 2",
   "language": "python",
   "name": "python2"
  },
  "language_info": {
   "codemirror_mode": {
    "name": "ipython",
    "version": 2
   },
   "file_extension": ".py",
   "mimetype": "text/x-python",
   "name": "python",
   "nbconvert_exporter": "python",
   "pygments_lexer": "ipython2",
   "version": "2.7.11"
  },
  "widgets": {
   "state": {},
   "version": "1.1.1"
  }
 },
 "nbformat": 4,
 "nbformat_minor": 0
}
